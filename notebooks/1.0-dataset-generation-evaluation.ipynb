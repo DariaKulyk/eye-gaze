{
 "cells": [
  {
   "cell_type": "code",
   "execution_count": 1,
   "metadata": {},
   "outputs": [],
   "source": [
    "import fiftyone as fo\n",
    "import fiftyone.zoo as foz\n",
    "import fiftyone.utils.coco as fouc\n",
    "import pandas as pd"
   ]
  },
  {
   "cell_type": "markdown",
   "metadata": {},
   "source": [
    "### 1 Dataset generation for object detection"
   ]
  },
  {
   "cell_type": "markdown",
   "metadata": {},
   "source": [
    "#### 1.1 Downloading OpenImages dataset"
   ]
  },
  {
   "cell_type": "code",
   "execution_count": null,
   "metadata": {},
   "outputs": [],
   "source": [
    "classes = [\"Human hand\", \"Human head\", \"Person\", \"Hat\", \"Dress\", \"Human hair\", \"Human eye\", \"Human mouth\", \"Tree\", \"Animal\", \"Building\"]\n",
    "\n",
    "new_dataset = foz.load_zoo_dataset(\n",
    "    \"open-images-v7\",\n",
    "    split=\"validation\",\n",
    "    label_types=[\"detections\", \"classifications\"],\n",
    "    classes=classes,\n",
    "    dataset_name=\"new-dataset\",\n",
    "    load_hierarchy=True,\n",
    "    dataset_dir=\"/Volumes/Samsung_USB/open-images\",\n",
    ")\n",
    "\n",
    "session = fo.launch_app(new_dataset)"
   ]
  },
  {
   "cell_type": "markdown",
   "metadata": {},
   "source": [
    "#### 1.2 Exporting OpenImages to COCO format"
   ]
  },
  {
   "cell_type": "code",
   "execution_count": null,
   "metadata": {},
   "outputs": [],
   "source": [
    "new_dataset.export(\n",
    "   export_dir=\"/Volumes/Samsung_USB/coco-dataset\",\n",
    "   dataset_type = fo.types.COCODetectionDataset,\n",
    "   label_field= \"detections\",\n",
    ")"
   ]
  },
  {
   "cell_type": "markdown",
   "metadata": {},
   "source": [
    "### 2 Evaluation of test dataset"
   ]
  },
  {
   "cell_type": "markdown",
   "metadata": {},
   "source": [
    "#### 2.1 Importing test dataset\n",
    "data_path corresponds to the directory where images of paintings are stored, labels_path corresponds to json annotation file with ground truth bounding boxes."
   ]
  },
  {
   "cell_type": "code",
   "execution_count": null,
   "metadata": {},
   "outputs": [],
   "source": [
    "coco_dataset = fo.Dataset.from_dir(\n",
    "    dataset_type=fo.types.COCODetectionDataset,\n",
    "    data_path=\"/Volumes/SAMSUNG_USB/test-images\", \n",
    "    labels_path=\"/Volumes/SAMSUNG_USB/annotations/test-ann-27-06.json\", \n",
    "    include_id=True,\n",
    ")\n",
    "\n",
    "# Verify that the class list for the dataset was imported\n",
    "print(coco_dataset.default_classes) # ['0', 'Animal', 'Building', 'Dress'...]\n",
    "print(coco_dataset)"
   ]
  },
  {
   "cell_type": "code",
   "execution_count": null,
   "metadata": {},
   "outputs": [],
   "source": [
    "df = pd.read_json(\"/Volumes/SAMSUNG_USB/annotations/predictions.json\")\n",
    "predictions = df.to_json(orient='records')\n",
    "\n",
    "# Add COCO predictions to `predictions` field of dataset\n",
    "classes = coco_dataset.default_classes\n",
    "fouc.add_coco_labels(coco_dataset, \"predictions\", predictions, classes)\n",
    "\n",
    "# Verify that predictions were added to nineteen painting images\n",
    "print(coco_dataset.count(\"predictions\"))  # 19"
   ]
  },
  {
   "cell_type": "markdown",
   "metadata": {},
   "source": [
    "#### 2.3 Displaying ground truth and predicted bounding boxes"
   ]
  },
  {
   "cell_type": "code",
   "execution_count": null,
   "metadata": {},
   "outputs": [],
   "source": [
    "session = fo.launch_app(coco_dataset)"
   ]
  }
 ],
 "metadata": {
  "kernelspec": {
   "display_name": "base",
   "language": "python",
   "name": "python3"
  },
  "language_info": {
   "codemirror_mode": {
    "name": "ipython",
    "version": 3
   },
   "file_extension": ".py",
   "mimetype": "text/x-python",
   "name": "python",
   "nbconvert_exporter": "python",
   "pygments_lexer": "ipython3",
   "version": "3.10.9"
  },
  "orig_nbformat": 4
 },
 "nbformat": 4,
 "nbformat_minor": 2
}
